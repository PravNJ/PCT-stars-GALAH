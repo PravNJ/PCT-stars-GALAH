{
 "cells": [
  {
   "cell_type": "code",
   "execution_count": 1,
   "metadata": {},
   "outputs": [],
   "source": [
    "import h5py\n",
    "import numpy as np\n",
    "import pandas as pd \n",
    "\n",
    "import fastdtw\n",
    "import scipy.spatial.distance as sd\n",
    "\n",
    "from scipy import ndimage \n",
    "from scipy.cluster import hierarchy \n",
    "from scipy.spatial import distance_matrix \n",
    "from sklearn import manifold, datasets \n",
    "from sklearn.cluster import AgglomerativeClustering\n",
    "\n",
    "import matplotlib.pyplot as plt\n",
    "import seaborn as sns \n",
    "plt.rcParams[\"figure.figsize\"] = [16,9]\n",
    "sns.set_style('whitegrid')\n",
    "\n",
    "GRID_SIZE = 0.06\n",
    "LOWER_LAMBDA = 6472.5\n",
    "UPPER_LAMBDA = 6740\n",
    "PLOT_MASK = range(1475,1550)"
   ]
  },
  {
   "cell_type": "code",
   "execution_count": 2,
   "metadata": {},
   "outputs": [],
   "source": [
    "cotar_samples = pd.read_csv(\"/home/pravn/Dropbox/Masters/Research Data/results.csv\", index_col=0)"
   ]
  },
  {
   "cell_type": "code",
   "execution_count": 3,
   "metadata": {},
   "outputs": [
    {
     "data": {
      "text/html": [
       "<div>\n",
       "<style scoped>\n",
       "    .dataframe tbody tr th:only-of-type {\n",
       "        vertical-align: middle;\n",
       "    }\n",
       "\n",
       "    .dataframe tbody tr th {\n",
       "        vertical-align: top;\n",
       "    }\n",
       "\n",
       "    .dataframe thead th {\n",
       "        text-align: right;\n",
       "    }\n",
       "</style>\n",
       "<table border=\"1\" class=\"dataframe\">\n",
       "  <thead>\n",
       "    <tr style=\"text-align: right;\">\n",
       "      <th></th>\n",
       "      <th>sobject_id</th>\n",
       "      <th>6561.00000000059</th>\n",
       "      <th>6561.060000000591</th>\n",
       "      <th>6561.120000000591</th>\n",
       "      <th>6561.1800000005915</th>\n",
       "      <th>6561.240000000592</th>\n",
       "      <th>6561.300000000592</th>\n",
       "      <th>6561.360000000593</th>\n",
       "      <th>6561.420000000593</th>\n",
       "      <th>6561.4800000005935</th>\n",
       "      <th>...</th>\n",
       "      <th>label</th>\n",
       "      <th>star_id</th>\n",
       "      <th>teff</th>\n",
       "      <th>e_teff</th>\n",
       "      <th>logg</th>\n",
       "      <th>e_logg</th>\n",
       "      <th>fe_h</th>\n",
       "      <th>e_fe_h</th>\n",
       "      <th>ra</th>\n",
       "      <th>dec</th>\n",
       "    </tr>\n",
       "  </thead>\n",
       "  <tbody>\n",
       "    <tr>\n",
       "      <th>0</th>\n",
       "      <td>131116000501262</td>\n",
       "      <td>0.791232</td>\n",
       "      <td>0.799116</td>\n",
       "      <td>0.798513</td>\n",
       "      <td>0.789936</td>\n",
       "      <td>0.770570</td>\n",
       "      <td>0.747840</td>\n",
       "      <td>0.750200</td>\n",
       "      <td>0.778579</td>\n",
       "      <td>0.805557</td>\n",
       "      <td>...</td>\n",
       "      <td>1</td>\n",
       "      <td>03303061-6824089</td>\n",
       "      <td>5848.8174</td>\n",
       "      <td>109.977853</td>\n",
       "      <td>4.243084</td>\n",
       "      <td>0.184408</td>\n",
       "      <td>-0.338275</td>\n",
       "      <td>0.134476</td>\n",
       "      <td>52.627905</td>\n",
       "      <td>-68.402358</td>\n",
       "    </tr>\n",
       "    <tr>\n",
       "      <th>1</th>\n",
       "      <td>131116001001379</td>\n",
       "      <td>1.016790</td>\n",
       "      <td>1.033717</td>\n",
       "      <td>1.039141</td>\n",
       "      <td>1.053989</td>\n",
       "      <td>1.071330</td>\n",
       "      <td>1.068635</td>\n",
       "      <td>1.053506</td>\n",
       "      <td>1.034933</td>\n",
       "      <td>1.029725</td>\n",
       "      <td>...</td>\n",
       "      <td>2</td>\n",
       "      <td>04315418-5613335</td>\n",
       "      <td>4328.7964</td>\n",
       "      <td>118.017575</td>\n",
       "      <td>3.327391</td>\n",
       "      <td>0.198075</td>\n",
       "      <td>0.169383</td>\n",
       "      <td>0.128575</td>\n",
       "      <td>67.975753</td>\n",
       "      <td>-56.225897</td>\n",
       "    </tr>\n",
       "    <tr>\n",
       "      <th>2</th>\n",
       "      <td>131118002401234</td>\n",
       "      <td>1.068419</td>\n",
       "      <td>1.064418</td>\n",
       "      <td>1.059543</td>\n",
       "      <td>1.045539</td>\n",
       "      <td>1.045996</td>\n",
       "      <td>1.074062</td>\n",
       "      <td>1.101389</td>\n",
       "      <td>1.097221</td>\n",
       "      <td>1.074829</td>\n",
       "      <td>...</td>\n",
       "      <td>4</td>\n",
       "      <td>04303269-5730244</td>\n",
       "      <td>3136.7622</td>\n",
       "      <td>NaN</td>\n",
       "      <td>4.396316</td>\n",
       "      <td>NaN</td>\n",
       "      <td>NaN</td>\n",
       "      <td>NaN</td>\n",
       "      <td>67.635947</td>\n",
       "      <td>-57.506949</td>\n",
       "    </tr>\n",
       "    <tr>\n",
       "      <th>3</th>\n",
       "      <td>131118002401396</td>\n",
       "      <td>0.854523</td>\n",
       "      <td>0.876311</td>\n",
       "      <td>0.909512</td>\n",
       "      <td>0.926363</td>\n",
       "      <td>0.935885</td>\n",
       "      <td>0.954685</td>\n",
       "      <td>0.921646</td>\n",
       "      <td>0.926053</td>\n",
       "      <td>0.934858</td>\n",
       "      <td>...</td>\n",
       "      <td>2</td>\n",
       "      <td>04354318-5738560</td>\n",
       "      <td>4815.8853</td>\n",
       "      <td>140.982633</td>\n",
       "      <td>3.473381</td>\n",
       "      <td>0.215505</td>\n",
       "      <td>-0.916787</td>\n",
       "      <td>0.134253</td>\n",
       "      <td>68.930000</td>\n",
       "      <td>-57.648952</td>\n",
       "    </tr>\n",
       "    <tr>\n",
       "      <th>4</th>\n",
       "      <td>131118002901052</td>\n",
       "      <td>0.958085</td>\n",
       "      <td>0.961354</td>\n",
       "      <td>0.958334</td>\n",
       "      <td>0.960897</td>\n",
       "      <td>0.960540</td>\n",
       "      <td>0.954966</td>\n",
       "      <td>0.951380</td>\n",
       "      <td>0.939908</td>\n",
       "      <td>0.923267</td>\n",
       "      <td>...</td>\n",
       "      <td>2</td>\n",
       "      <td>05292291-5823105</td>\n",
       "      <td>5056.8890</td>\n",
       "      <td>84.699254</td>\n",
       "      <td>3.586107</td>\n",
       "      <td>0.183447</td>\n",
       "      <td>-0.459082</td>\n",
       "      <td>0.065107</td>\n",
       "      <td>82.345409</td>\n",
       "      <td>-58.386368</td>\n",
       "    </tr>\n",
       "  </tbody>\n",
       "</table>\n",
       "<p>5 rows × 86 columns</p>\n",
       "</div>"
      ],
      "text/plain": [
       "        sobject_id  6561.00000000059  6561.060000000591  6561.120000000591  \\\n",
       "0  131116000501262          0.791232           0.799116           0.798513   \n",
       "1  131116001001379          1.016790           1.033717           1.039141   \n",
       "2  131118002401234          1.068419           1.064418           1.059543   \n",
       "3  131118002401396          0.854523           0.876311           0.909512   \n",
       "4  131118002901052          0.958085           0.961354           0.958334   \n",
       "\n",
       "   6561.1800000005915  6561.240000000592  6561.300000000592  \\\n",
       "0            0.789936           0.770570           0.747840   \n",
       "1            1.053989           1.071330           1.068635   \n",
       "2            1.045539           1.045996           1.074062   \n",
       "3            0.926363           0.935885           0.954685   \n",
       "4            0.960897           0.960540           0.954966   \n",
       "\n",
       "   6561.360000000593  6561.420000000593  6561.4800000005935  ...  label  \\\n",
       "0           0.750200           0.778579            0.805557  ...      1   \n",
       "1           1.053506           1.034933            1.029725  ...      2   \n",
       "2           1.101389           1.097221            1.074829  ...      4   \n",
       "3           0.921646           0.926053            0.934858  ...      2   \n",
       "4           0.951380           0.939908            0.923267  ...      2   \n",
       "\n",
       "            star_id       teff      e_teff      logg    e_logg      fe_h  \\\n",
       "0  03303061-6824089  5848.8174  109.977853  4.243084  0.184408 -0.338275   \n",
       "1  04315418-5613335  4328.7964  118.017575  3.327391  0.198075  0.169383   \n",
       "2  04303269-5730244  3136.7622         NaN  4.396316       NaN       NaN   \n",
       "3  04354318-5738560  4815.8853  140.982633  3.473381  0.215505 -0.916787   \n",
       "4  05292291-5823105  5056.8890   84.699254  3.586107  0.183447 -0.459082   \n",
       "\n",
       "     e_fe_h         ra        dec  \n",
       "0  0.134476  52.627905 -68.402358  \n",
       "1  0.128575  67.975753 -56.225897  \n",
       "2       NaN  67.635947 -57.506949  \n",
       "3  0.134253  68.930000 -57.648952  \n",
       "4  0.065107  82.345409 -58.386368  \n",
       "\n",
       "[5 rows x 86 columns]"
      ]
     },
     "execution_count": 3,
     "metadata": {},
     "output_type": "execute_result"
    }
   ],
   "source": [
    "cotar_samples.head()"
   ]
  },
  {
   "cell_type": "code",
   "execution_count": 4,
   "metadata": {},
   "outputs": [],
   "source": [
    "from astropy.table import Table "
   ]
  },
  {
   "cell_type": "code",
   "execution_count": 5,
   "metadata": {},
   "outputs": [],
   "source": [
    "data = Table.read('/home/pravn/Dropbox/Masters/mnras-cotar-data/data.fits', format='fits')"
   ]
  },
  {
   "cell_type": "code",
   "execution_count": 7,
   "metadata": {},
   "outputs": [],
   "source": [
    "cotar_original = data.to_pandas()"
   ]
  },
  {
   "cell_type": "code",
   "execution_count": 8,
   "metadata": {},
   "outputs": [
    {
     "data": {
      "text/html": [
       "<div>\n",
       "<style scoped>\n",
       "    .dataframe tbody tr th:only-of-type {\n",
       "        vertical-align: middle;\n",
       "    }\n",
       "\n",
       "    .dataframe tbody tr th {\n",
       "        vertical-align: top;\n",
       "    }\n",
       "\n",
       "    .dataframe thead th {\n",
       "        text-align: right;\n",
       "    }\n",
       "</style>\n",
       "<table border=\"1\" class=\"dataframe\">\n",
       "  <thead>\n",
       "    <tr style=\"text-align: right;\">\n",
       "      <th></th>\n",
       "      <th>source_id</th>\n",
       "      <th>sobject_id</th>\n",
       "      <th>ra</th>\n",
       "      <th>dec</th>\n",
       "      <th>Ha_EW</th>\n",
       "      <th>Hb_EW</th>\n",
       "      <th>Ha_EW_abs</th>\n",
       "      <th>Hb_EW_abs</th>\n",
       "      <th>Ha_W10</th>\n",
       "      <th>Ha_EW_asym</th>\n",
       "      <th>...</th>\n",
       "      <th>SB2_c1</th>\n",
       "      <th>NII</th>\n",
       "      <th>SII</th>\n",
       "      <th>NII_EW</th>\n",
       "      <th>SII_EW</th>\n",
       "      <th>rv_NII</th>\n",
       "      <th>rv_SII</th>\n",
       "      <th>nebular</th>\n",
       "      <th>emiss</th>\n",
       "      <th>flag</th>\n",
       "    </tr>\n",
       "  </thead>\n",
       "  <tbody>\n",
       "    <tr>\n",
       "      <th>0</th>\n",
       "      <td>4667368899326729856</td>\n",
       "      <td>131116000501002</td>\n",
       "      <td>53.219667</td>\n",
       "      <td>-68.675139</td>\n",
       "      <td>-0.041336</td>\n",
       "      <td>-0.128504</td>\n",
       "      <td>0.110269</td>\n",
       "      <td>0.346573</td>\n",
       "      <td>21.851629</td>\n",
       "      <td>0.018468</td>\n",
       "      <td>...</td>\n",
       "      <td>False</td>\n",
       "      <td>0</td>\n",
       "      <td>0</td>\n",
       "      <td>0.000000</td>\n",
       "      <td>0.007487</td>\n",
       "      <td>-42.985878</td>\n",
       "      <td>-52.369164</td>\n",
       "      <td>False</td>\n",
       "      <td>False</td>\n",
       "      <td>0</td>\n",
       "    </tr>\n",
       "    <tr>\n",
       "      <th>1</th>\n",
       "      <td>4667362989451832448</td>\n",
       "      <td>131116000501003</td>\n",
       "      <td>53.724417</td>\n",
       "      <td>-68.610056</td>\n",
       "      <td>-0.093059</td>\n",
       "      <td>-0.032066</td>\n",
       "      <td>0.136851</td>\n",
       "      <td>0.350298</td>\n",
       "      <td>12.018717</td>\n",
       "      <td>0.146598</td>\n",
       "      <td>...</td>\n",
       "      <td>False</td>\n",
       "      <td>0</td>\n",
       "      <td>0</td>\n",
       "      <td>-0.010351</td>\n",
       "      <td>0.000000</td>\n",
       "      <td>-69.839996</td>\n",
       "      <td>-75.075890</td>\n",
       "      <td>False</td>\n",
       "      <td>False</td>\n",
       "      <td>0</td>\n",
       "    </tr>\n",
       "    <tr>\n",
       "      <th>2</th>\n",
       "      <td>4667324643983679744</td>\n",
       "      <td>131116000501004</td>\n",
       "      <td>55.594000</td>\n",
       "      <td>-68.697833</td>\n",
       "      <td>-0.004435</td>\n",
       "      <td>0.244539</td>\n",
       "      <td>0.124381</td>\n",
       "      <td>0.360633</td>\n",
       "      <td>42.366215</td>\n",
       "      <td>-0.171434</td>\n",
       "      <td>...</td>\n",
       "      <td>False</td>\n",
       "      <td>0</td>\n",
       "      <td>0</td>\n",
       "      <td>0.013567</td>\n",
       "      <td>0.000000</td>\n",
       "      <td>-95.912048</td>\n",
       "      <td>-100.068390</td>\n",
       "      <td>False</td>\n",
       "      <td>False</td>\n",
       "      <td>0</td>\n",
       "    </tr>\n",
       "    <tr>\n",
       "      <th>3</th>\n",
       "      <td>4667335913977929728</td>\n",
       "      <td>131116000501005</td>\n",
       "      <td>54.392042</td>\n",
       "      <td>-68.685056</td>\n",
       "      <td>-0.063868</td>\n",
       "      <td>-0.121597</td>\n",
       "      <td>0.086837</td>\n",
       "      <td>0.173505</td>\n",
       "      <td>32.563042</td>\n",
       "      <td>0.277683</td>\n",
       "      <td>...</td>\n",
       "      <td>False</td>\n",
       "      <td>0</td>\n",
       "      <td>0</td>\n",
       "      <td>0.000000</td>\n",
       "      <td>-0.000524</td>\n",
       "      <td>38.587879</td>\n",
       "      <td>53.383396</td>\n",
       "      <td>False</td>\n",
       "      <td>False</td>\n",
       "      <td>0</td>\n",
       "    </tr>\n",
       "    <tr>\n",
       "      <th>4</th>\n",
       "      <td>4667323681911007232</td>\n",
       "      <td>131116000501006</td>\n",
       "      <td>55.770375</td>\n",
       "      <td>-68.722472</td>\n",
       "      <td>0.045687</td>\n",
       "      <td>-0.133048</td>\n",
       "      <td>0.112489</td>\n",
       "      <td>0.197745</td>\n",
       "      <td>16.599590</td>\n",
       "      <td>-0.051486</td>\n",
       "      <td>...</td>\n",
       "      <td>False</td>\n",
       "      <td>0</td>\n",
       "      <td>0</td>\n",
       "      <td>0.000000</td>\n",
       "      <td>0.012277</td>\n",
       "      <td>-10.203407</td>\n",
       "      <td>-128.818909</td>\n",
       "      <td>False</td>\n",
       "      <td>False</td>\n",
       "      <td>0</td>\n",
       "    </tr>\n",
       "  </tbody>\n",
       "</table>\n",
       "<p>5 rows × 22 columns</p>\n",
       "</div>"
      ],
      "text/plain": [
       "             source_id       sobject_id         ra        dec     Ha_EW  \\\n",
       "0  4667368899326729856  131116000501002  53.219667 -68.675139 -0.041336   \n",
       "1  4667362989451832448  131116000501003  53.724417 -68.610056 -0.093059   \n",
       "2  4667324643983679744  131116000501004  55.594000 -68.697833 -0.004435   \n",
       "3  4667335913977929728  131116000501005  54.392042 -68.685056 -0.063868   \n",
       "4  4667323681911007232  131116000501006  55.770375 -68.722472  0.045687   \n",
       "\n",
       "      Hb_EW  Ha_EW_abs  Hb_EW_abs     Ha_W10  Ha_EW_asym  ...  SB2_c1  NII  \\\n",
       "0 -0.128504   0.110269   0.346573  21.851629    0.018468  ...   False    0   \n",
       "1 -0.032066   0.136851   0.350298  12.018717    0.146598  ...   False    0   \n",
       "2  0.244539   0.124381   0.360633  42.366215   -0.171434  ...   False    0   \n",
       "3 -0.121597   0.086837   0.173505  32.563042    0.277683  ...   False    0   \n",
       "4 -0.133048   0.112489   0.197745  16.599590   -0.051486  ...   False    0   \n",
       "\n",
       "   SII    NII_EW    SII_EW     rv_NII      rv_SII  nebular  emiss  flag  \n",
       "0    0  0.000000  0.007487 -42.985878  -52.369164    False  False     0  \n",
       "1    0 -0.010351  0.000000 -69.839996  -75.075890    False  False     0  \n",
       "2    0  0.013567  0.000000 -95.912048 -100.068390    False  False     0  \n",
       "3    0  0.000000 -0.000524  38.587879   53.383396    False  False     0  \n",
       "4    0  0.000000  0.012277 -10.203407 -128.818909    False  False     0  \n",
       "\n",
       "[5 rows x 22 columns]"
      ]
     },
     "execution_count": 8,
     "metadata": {},
     "output_type": "execute_result"
    }
   ],
   "source": [
    "cotar_original.head()"
   ]
  },
  {
   "cell_type": "code",
   "execution_count": 10,
   "metadata": {},
   "outputs": [],
   "source": [
    "cotar_original_sobjects_ew = cotar_original[[\"sobject_id\", \"Ha_EW\"]].copy()"
   ]
  },
  {
   "cell_type": "code",
   "execution_count": 11,
   "metadata": {},
   "outputs": [
    {
     "data": {
      "text/html": [
       "<div>\n",
       "<style scoped>\n",
       "    .dataframe tbody tr th:only-of-type {\n",
       "        vertical-align: middle;\n",
       "    }\n",
       "\n",
       "    .dataframe tbody tr th {\n",
       "        vertical-align: top;\n",
       "    }\n",
       "\n",
       "    .dataframe thead th {\n",
       "        text-align: right;\n",
       "    }\n",
       "</style>\n",
       "<table border=\"1\" class=\"dataframe\">\n",
       "  <thead>\n",
       "    <tr style=\"text-align: right;\">\n",
       "      <th></th>\n",
       "      <th>sobject_id</th>\n",
       "      <th>Ha_EW</th>\n",
       "    </tr>\n",
       "  </thead>\n",
       "  <tbody>\n",
       "    <tr>\n",
       "      <th>0</th>\n",
       "      <td>131116000501002</td>\n",
       "      <td>-0.041336</td>\n",
       "    </tr>\n",
       "    <tr>\n",
       "      <th>1</th>\n",
       "      <td>131116000501003</td>\n",
       "      <td>-0.093059</td>\n",
       "    </tr>\n",
       "    <tr>\n",
       "      <th>2</th>\n",
       "      <td>131116000501004</td>\n",
       "      <td>-0.004435</td>\n",
       "    </tr>\n",
       "    <tr>\n",
       "      <th>3</th>\n",
       "      <td>131116000501005</td>\n",
       "      <td>-0.063868</td>\n",
       "    </tr>\n",
       "    <tr>\n",
       "      <th>4</th>\n",
       "      <td>131116000501006</td>\n",
       "      <td>0.045687</td>\n",
       "    </tr>\n",
       "  </tbody>\n",
       "</table>\n",
       "</div>"
      ],
      "text/plain": [
       "        sobject_id     Ha_EW\n",
       "0  131116000501002 -0.041336\n",
       "1  131116000501003 -0.093059\n",
       "2  131116000501004 -0.004435\n",
       "3  131116000501005 -0.063868\n",
       "4  131116000501006  0.045687"
      ]
     },
     "execution_count": 11,
     "metadata": {},
     "output_type": "execute_result"
    }
   ],
   "source": [
    "cotar_original_sobjects_ew.head()"
   ]
  },
  {
   "cell_type": "code",
   "execution_count": 12,
   "metadata": {},
   "outputs": [],
   "source": [
    "cotar_samples_sobjects = cotar_samples[[\"sobject_id\"]].copy()"
   ]
  },
  {
   "cell_type": "code",
   "execution_count": 13,
   "metadata": {},
   "outputs": [
    {
     "data": {
      "text/html": [
       "<div>\n",
       "<style scoped>\n",
       "    .dataframe tbody tr th:only-of-type {\n",
       "        vertical-align: middle;\n",
       "    }\n",
       "\n",
       "    .dataframe tbody tr th {\n",
       "        vertical-align: top;\n",
       "    }\n",
       "\n",
       "    .dataframe thead th {\n",
       "        text-align: right;\n",
       "    }\n",
       "</style>\n",
       "<table border=\"1\" class=\"dataframe\">\n",
       "  <thead>\n",
       "    <tr style=\"text-align: right;\">\n",
       "      <th></th>\n",
       "      <th>sobject_id</th>\n",
       "    </tr>\n",
       "  </thead>\n",
       "  <tbody>\n",
       "    <tr>\n",
       "      <th>0</th>\n",
       "      <td>131116000501262</td>\n",
       "    </tr>\n",
       "    <tr>\n",
       "      <th>1</th>\n",
       "      <td>131116001001379</td>\n",
       "    </tr>\n",
       "    <tr>\n",
       "      <th>2</th>\n",
       "      <td>131118002401234</td>\n",
       "    </tr>\n",
       "    <tr>\n",
       "      <th>3</th>\n",
       "      <td>131118002401396</td>\n",
       "    </tr>\n",
       "    <tr>\n",
       "      <th>4</th>\n",
       "      <td>131118002901052</td>\n",
       "    </tr>\n",
       "  </tbody>\n",
       "</table>\n",
       "</div>"
      ],
      "text/plain": [
       "        sobject_id\n",
       "0  131116000501262\n",
       "1  131116001001379\n",
       "2  131118002401234\n",
       "3  131118002401396\n",
       "4  131118002901052"
      ]
     },
     "execution_count": 13,
     "metadata": {},
     "output_type": "execute_result"
    }
   ],
   "source": [
    "cotar_samples_sobjects.head()"
   ]
  },
  {
   "cell_type": "code",
   "execution_count": 14,
   "metadata": {},
   "outputs": [],
   "source": [
    "df_temp = pd.merge(cotar_original_sobjects_ew,cotar_samples_sobjects, how='outer', indicator=True)"
   ]
  },
  {
   "cell_type": "code",
   "execution_count": 15,
   "metadata": {},
   "outputs": [
    {
     "data": {
      "text/html": [
       "<div>\n",
       "<style scoped>\n",
       "    .dataframe tbody tr th:only-of-type {\n",
       "        vertical-align: middle;\n",
       "    }\n",
       "\n",
       "    .dataframe tbody tr th {\n",
       "        vertical-align: top;\n",
       "    }\n",
       "\n",
       "    .dataframe thead th {\n",
       "        text-align: right;\n",
       "    }\n",
       "</style>\n",
       "<table border=\"1\" class=\"dataframe\">\n",
       "  <thead>\n",
       "    <tr style=\"text-align: right;\">\n",
       "      <th></th>\n",
       "      <th>sobject_id</th>\n",
       "      <th>Ha_EW</th>\n",
       "      <th>_merge</th>\n",
       "    </tr>\n",
       "  </thead>\n",
       "  <tbody>\n",
       "    <tr>\n",
       "      <th>0</th>\n",
       "      <td>131116000501002</td>\n",
       "      <td>-0.041336</td>\n",
       "      <td>left_only</td>\n",
       "    </tr>\n",
       "    <tr>\n",
       "      <th>1</th>\n",
       "      <td>131116000501003</td>\n",
       "      <td>-0.093059</td>\n",
       "      <td>left_only</td>\n",
       "    </tr>\n",
       "    <tr>\n",
       "      <th>2</th>\n",
       "      <td>131116000501004</td>\n",
       "      <td>-0.004435</td>\n",
       "      <td>left_only</td>\n",
       "    </tr>\n",
       "    <tr>\n",
       "      <th>3</th>\n",
       "      <td>131116000501005</td>\n",
       "      <td>-0.063868</td>\n",
       "      <td>left_only</td>\n",
       "    </tr>\n",
       "    <tr>\n",
       "      <th>4</th>\n",
       "      <td>131116000501006</td>\n",
       "      <td>0.045687</td>\n",
       "      <td>left_only</td>\n",
       "    </tr>\n",
       "  </tbody>\n",
       "</table>\n",
       "</div>"
      ],
      "text/plain": [
       "        sobject_id     Ha_EW     _merge\n",
       "0  131116000501002 -0.041336  left_only\n",
       "1  131116000501003 -0.093059  left_only\n",
       "2  131116000501004 -0.004435  left_only\n",
       "3  131116000501005 -0.063868  left_only\n",
       "4  131116000501006  0.045687  left_only"
      ]
     },
     "execution_count": 15,
     "metadata": {},
     "output_type": "execute_result"
    }
   ],
   "source": [
    "df_temp.head()"
   ]
  },
  {
   "cell_type": "code",
   "execution_count": 16,
   "metadata": {},
   "outputs": [
    {
     "data": {
      "text/plain": [
       "left_only     651942\n",
       "both            6977\n",
       "right_only         0\n",
       "Name: _merge, dtype: int64"
      ]
     },
     "execution_count": 16,
     "metadata": {},
     "output_type": "execute_result"
    }
   ],
   "source": [
    "df_temp[\"_merge\"].value_counts()"
   ]
  },
  {
   "cell_type": "code",
   "execution_count": 17,
   "metadata": {},
   "outputs": [],
   "source": [
    "df_final_cands = df_temp.loc[df_temp[\"_merge\"]==\"both\"]"
   ]
  },
  {
   "cell_type": "code",
   "execution_count": 18,
   "metadata": {},
   "outputs": [
    {
     "data": {
      "text/html": [
       "<div>\n",
       "<style scoped>\n",
       "    .dataframe tbody tr th:only-of-type {\n",
       "        vertical-align: middle;\n",
       "    }\n",
       "\n",
       "    .dataframe tbody tr th {\n",
       "        vertical-align: top;\n",
       "    }\n",
       "\n",
       "    .dataframe thead th {\n",
       "        text-align: right;\n",
       "    }\n",
       "</style>\n",
       "<table border=\"1\" class=\"dataframe\">\n",
       "  <thead>\n",
       "    <tr style=\"text-align: right;\">\n",
       "      <th></th>\n",
       "      <th>sobject_id</th>\n",
       "      <th>Ha_EW</th>\n",
       "      <th>_merge</th>\n",
       "    </tr>\n",
       "  </thead>\n",
       "  <tbody>\n",
       "    <tr>\n",
       "      <th>231</th>\n",
       "      <td>131116000501262</td>\n",
       "      <td>0.295603</td>\n",
       "      <td>both</td>\n",
       "    </tr>\n",
       "    <tr>\n",
       "      <th>503</th>\n",
       "      <td>131116001001379</td>\n",
       "      <td>1.089601</td>\n",
       "      <td>both</td>\n",
       "    </tr>\n",
       "    <tr>\n",
       "      <th>672</th>\n",
       "      <td>131118002401234</td>\n",
       "      <td>1.140538</td>\n",
       "      <td>both</td>\n",
       "    </tr>\n",
       "    <tr>\n",
       "      <th>747</th>\n",
       "      <td>131118002401396</td>\n",
       "      <td>0.332889</td>\n",
       "      <td>both</td>\n",
       "    </tr>\n",
       "    <tr>\n",
       "      <th>780</th>\n",
       "      <td>131118002901052</td>\n",
       "      <td>0.671526</td>\n",
       "      <td>both</td>\n",
       "    </tr>\n",
       "  </tbody>\n",
       "</table>\n",
       "</div>"
      ],
      "text/plain": [
       "          sobject_id     Ha_EW _merge\n",
       "231  131116000501262  0.295603   both\n",
       "503  131116001001379  1.089601   both\n",
       "672  131118002401234  1.140538   both\n",
       "747  131118002401396  0.332889   both\n",
       "780  131118002901052  0.671526   both"
      ]
     },
     "execution_count": 18,
     "metadata": {},
     "output_type": "execute_result"
    }
   ],
   "source": [
    "df_final_cands.head()"
   ]
  },
  {
   "cell_type": "code",
   "execution_count": 19,
   "metadata": {},
   "outputs": [],
   "source": [
    "df_final_cands = df_final_cands.drop(columns=[\"_merge\"])"
   ]
  },
  {
   "cell_type": "code",
   "execution_count": 20,
   "metadata": {},
   "outputs": [],
   "source": [
    "cotar_samples_ew = df_final_cands"
   ]
  },
  {
   "cell_type": "code",
   "execution_count": 21,
   "metadata": {},
   "outputs": [
    {
     "data": {
      "text/html": [
       "<div>\n",
       "<style scoped>\n",
       "    .dataframe tbody tr th:only-of-type {\n",
       "        vertical-align: middle;\n",
       "    }\n",
       "\n",
       "    .dataframe tbody tr th {\n",
       "        vertical-align: top;\n",
       "    }\n",
       "\n",
       "    .dataframe thead th {\n",
       "        text-align: right;\n",
       "    }\n",
       "</style>\n",
       "<table border=\"1\" class=\"dataframe\">\n",
       "  <thead>\n",
       "    <tr style=\"text-align: right;\">\n",
       "      <th></th>\n",
       "      <th>sobject_id</th>\n",
       "      <th>Ha_EW</th>\n",
       "    </tr>\n",
       "  </thead>\n",
       "  <tbody>\n",
       "    <tr>\n",
       "      <th>231</th>\n",
       "      <td>131116000501262</td>\n",
       "      <td>0.295603</td>\n",
       "    </tr>\n",
       "    <tr>\n",
       "      <th>503</th>\n",
       "      <td>131116001001379</td>\n",
       "      <td>1.089601</td>\n",
       "    </tr>\n",
       "    <tr>\n",
       "      <th>672</th>\n",
       "      <td>131118002401234</td>\n",
       "      <td>1.140538</td>\n",
       "    </tr>\n",
       "    <tr>\n",
       "      <th>747</th>\n",
       "      <td>131118002401396</td>\n",
       "      <td>0.332889</td>\n",
       "    </tr>\n",
       "    <tr>\n",
       "      <th>780</th>\n",
       "      <td>131118002901052</td>\n",
       "      <td>0.671526</td>\n",
       "    </tr>\n",
       "    <tr>\n",
       "      <th>...</th>\n",
       "      <td>...</td>\n",
       "      <td>...</td>\n",
       "    </tr>\n",
       "    <tr>\n",
       "      <th>658571</th>\n",
       "      <td>190225004801232</td>\n",
       "      <td>0.350897</td>\n",
       "    </tr>\n",
       "    <tr>\n",
       "      <th>658718</th>\n",
       "      <td>190225005301010</td>\n",
       "      <td>0.376991</td>\n",
       "    </tr>\n",
       "    <tr>\n",
       "      <th>658792</th>\n",
       "      <td>190225005301142</td>\n",
       "      <td>0.406013</td>\n",
       "    </tr>\n",
       "    <tr>\n",
       "      <th>658843</th>\n",
       "      <td>190225005301225</td>\n",
       "      <td>0.681442</td>\n",
       "    </tr>\n",
       "    <tr>\n",
       "      <th>658911</th>\n",
       "      <td>190225005301392</td>\n",
       "      <td>0.431629</td>\n",
       "    </tr>\n",
       "  </tbody>\n",
       "</table>\n",
       "<p>6977 rows × 2 columns</p>\n",
       "</div>"
      ],
      "text/plain": [
       "             sobject_id     Ha_EW\n",
       "231     131116000501262  0.295603\n",
       "503     131116001001379  1.089601\n",
       "672     131118002401234  1.140538\n",
       "747     131118002401396  0.332889\n",
       "780     131118002901052  0.671526\n",
       "...                 ...       ...\n",
       "658571  190225004801232  0.350897\n",
       "658718  190225005301010  0.376991\n",
       "658792  190225005301142  0.406013\n",
       "658843  190225005301225  0.681442\n",
       "658911  190225005301392  0.431629\n",
       "\n",
       "[6977 rows x 2 columns]"
      ]
     },
     "execution_count": 21,
     "metadata": {},
     "output_type": "execute_result"
    }
   ],
   "source": [
    "cotar_samples_ew"
   ]
  },
  {
   "cell_type": "code",
   "execution_count": 60,
   "metadata": {},
   "outputs": [],
   "source": [
    "original_masked = pd.read_csv(\"/home/pravn/Documents/original_masked_ew_sobject_id.csv\")\n",
    "original_masked_halpa = original_masked[original_masked[\"EW\"]>0.25]\n",
    "df_new_emiss_25 = original_masked_halpa[original_masked_halpa[\"EW\"]<5.5]"
   ]
  },
  {
   "cell_type": "code",
   "execution_count": 61,
   "metadata": {},
   "outputs": [],
   "source": [
    "autoencoder_run = df_new_emiss_25[[\"sobject_id\", \"EW\"]].copy()"
   ]
  },
  {
   "cell_type": "code",
   "execution_count": 62,
   "metadata": {},
   "outputs": [
    {
     "data": {
      "text/html": [
       "<div>\n",
       "<style scoped>\n",
       "    .dataframe tbody tr th:only-of-type {\n",
       "        vertical-align: middle;\n",
       "    }\n",
       "\n",
       "    .dataframe tbody tr th {\n",
       "        vertical-align: top;\n",
       "    }\n",
       "\n",
       "    .dataframe thead th {\n",
       "        text-align: right;\n",
       "    }\n",
       "</style>\n",
       "<table border=\"1\" class=\"dataframe\">\n",
       "  <thead>\n",
       "    <tr style=\"text-align: right;\">\n",
       "      <th></th>\n",
       "      <th>sobject_id</th>\n",
       "      <th>EW</th>\n",
       "    </tr>\n",
       "  </thead>\n",
       "  <tbody>\n",
       "    <tr>\n",
       "      <th>184</th>\n",
       "      <td>131116000501238</td>\n",
       "      <td>0.354939</td>\n",
       "    </tr>\n",
       "    <tr>\n",
       "      <th>344</th>\n",
       "      <td>131116001001352</td>\n",
       "      <td>2.129203</td>\n",
       "    </tr>\n",
       "    <tr>\n",
       "      <th>354</th>\n",
       "      <td>131116001001379</td>\n",
       "      <td>1.298985</td>\n",
       "    </tr>\n",
       "    <tr>\n",
       "      <th>415</th>\n",
       "      <td>131118002401234</td>\n",
       "      <td>1.134192</td>\n",
       "    </tr>\n",
       "    <tr>\n",
       "      <th>463</th>\n",
       "      <td>131118002901020</td>\n",
       "      <td>0.515890</td>\n",
       "    </tr>\n",
       "  </tbody>\n",
       "</table>\n",
       "</div>"
      ],
      "text/plain": [
       "          sobject_id        EW\n",
       "184  131116000501238  0.354939\n",
       "344  131116001001352  2.129203\n",
       "354  131116001001379  1.298985\n",
       "415  131118002401234  1.134192\n",
       "463  131118002901020  0.515890"
      ]
     },
     "execution_count": 62,
     "metadata": {},
     "output_type": "execute_result"
    }
   ],
   "source": [
    "autoencoder_run.head()"
   ]
  },
  {
   "cell_type": "code",
   "execution_count": 63,
   "metadata": {},
   "outputs": [
    {
     "data": {
      "text/plain": [
       "count    6977.000000\n",
       "mean        0.541501\n",
       "std         0.436802\n",
       "min         0.250070\n",
       "25%         0.296211\n",
       "50%         0.387524\n",
       "75%         0.585730\n",
       "max         5.369496\n",
       "Name: Ha_EW, dtype: float64"
      ]
     },
     "execution_count": 63,
     "metadata": {},
     "output_type": "execute_result"
    }
   ],
   "source": [
    "cotar_samples_ew[\"Ha_EW\"].describe()"
   ]
  },
  {
   "cell_type": "code",
   "execution_count": 64,
   "metadata": {},
   "outputs": [
    {
     "data": {
      "text/plain": [
       "count    10625.000000\n",
       "mean         0.548869\n",
       "std          0.456927\n",
       "min          0.250038\n",
       "25%          0.298722\n",
       "50%          0.382098\n",
       "75%          0.586963\n",
       "max          4.866757\n",
       "Name: EW, dtype: float64"
      ]
     },
     "execution_count": 64,
     "metadata": {},
     "output_type": "execute_result"
    }
   ],
   "source": [
    "autoencoder_run[\"EW\"].describe()"
   ]
  },
  {
   "cell_type": "markdown",
   "metadata": {},
   "source": [
    "Cotar EW Distribution"
   ]
  },
  {
   "cell_type": "code",
   "execution_count": 65,
   "metadata": {},
   "outputs": [
    {
     "data": {
      "text/plain": [
       "<AxesSubplot:>"
      ]
     },
     "execution_count": 65,
     "metadata": {},
     "output_type": "execute_result"
    },
    {
     "data": {
      "image/png": "[encoded data removed]",
      "text/plain": [
       "<Figure size 1152x648 with 1 Axes>"
      ]
     },
     "metadata": {},
     "output_type": "display_data"
    }
   ],
   "source": [
    "cotar_samples_ew[\"Ha_EW\"].hist(bins=50)"
   ]
  },
  {
   "cell_type": "markdown",
   "metadata": {},
   "source": [
    "Autoencoder EW Distribution"
   ]
  },
  {
   "cell_type": "code",
   "execution_count": 66,
   "metadata": {},
   "outputs": [
    {
     "data": {
      "text/plain": [
       "<AxesSubplot:>"
      ]
     },
     "execution_count": 66,
     "metadata": {},
     "output_type": "execute_result"
    },
    {
     "data": {
      "image/png": "[encoded data removed]",
      "text/plain": [
       "<Figure size 1152x648 with 1 Axes>"
      ]
     },
     "metadata": {},
     "output_type": "display_data"
    }
   ],
   "source": [
    "autoencoder_run[\"EW\"].hist(bins=50)"
   ]
  },
  {
   "cell_type": "code",
   "execution_count": 67,
   "metadata": {},
   "outputs": [],
   "source": [
    "df_temp_2 = pd.merge(autoencoder_run,cotar_samples_ew, how='outer', indicator=True, on=\"sobject_id\")"
   ]
  },
  {
   "cell_type": "code",
   "execution_count": 68,
   "metadata": {},
   "outputs": [
    {
     "data": {
      "text/plain": [
       "left_only     6513\n",
       "both          4112\n",
       "right_only    2865\n",
       "Name: _merge, dtype: int64"
      ]
     },
     "execution_count": 68,
     "metadata": {},
     "output_type": "execute_result"
    }
   ],
   "source": [
    "df_temp_2[\"_merge\"].value_counts()"
   ]
  },
  {
   "cell_type": "code",
   "execution_count": 69,
   "metadata": {},
   "outputs": [
    {
     "data": {
      "text/html": [
       "<div>\n",
       "<style scoped>\n",
       "    .dataframe tbody tr th:only-of-type {\n",
       "        vertical-align: middle;\n",
       "    }\n",
       "\n",
       "    .dataframe tbody tr th {\n",
       "        vertical-align: top;\n",
       "    }\n",
       "\n",
       "    .dataframe thead th {\n",
       "        text-align: right;\n",
       "    }\n",
       "</style>\n",
       "<table border=\"1\" class=\"dataframe\">\n",
       "  <thead>\n",
       "    <tr style=\"text-align: right;\">\n",
       "      <th></th>\n",
       "      <th>sobject_id</th>\n",
       "      <th>EW</th>\n",
       "      <th>Ha_EW</th>\n",
       "      <th>_merge</th>\n",
       "    </tr>\n",
       "  </thead>\n",
       "  <tbody>\n",
       "    <tr>\n",
       "      <th>0</th>\n",
       "      <td>131116000501238</td>\n",
       "      <td>0.354939</td>\n",
       "      <td>NaN</td>\n",
       "      <td>left_only</td>\n",
       "    </tr>\n",
       "    <tr>\n",
       "      <th>1</th>\n",
       "      <td>131116001001352</td>\n",
       "      <td>2.129203</td>\n",
       "      <td>NaN</td>\n",
       "      <td>left_only</td>\n",
       "    </tr>\n",
       "    <tr>\n",
       "      <th>2</th>\n",
       "      <td>131116001001379</td>\n",
       "      <td>1.298985</td>\n",
       "      <td>1.089601</td>\n",
       "      <td>both</td>\n",
       "    </tr>\n",
       "    <tr>\n",
       "      <th>3</th>\n",
       "      <td>131118002401234</td>\n",
       "      <td>1.134192</td>\n",
       "      <td>1.140538</td>\n",
       "      <td>both</td>\n",
       "    </tr>\n",
       "    <tr>\n",
       "      <th>4</th>\n",
       "      <td>131118002901020</td>\n",
       "      <td>0.515890</td>\n",
       "      <td>NaN</td>\n",
       "      <td>left_only</td>\n",
       "    </tr>\n",
       "    <tr>\n",
       "      <th>...</th>\n",
       "      <td>...</td>\n",
       "      <td>...</td>\n",
       "      <td>...</td>\n",
       "      <td>...</td>\n",
       "    </tr>\n",
       "    <tr>\n",
       "      <th>13485</th>\n",
       "      <td>190225002101279</td>\n",
       "      <td>NaN</td>\n",
       "      <td>0.364038</td>\n",
       "      <td>right_only</td>\n",
       "    </tr>\n",
       "    <tr>\n",
       "      <th>13486</th>\n",
       "      <td>190225002701366</td>\n",
       "      <td>NaN</td>\n",
       "      <td>0.288659</td>\n",
       "      <td>right_only</td>\n",
       "    </tr>\n",
       "    <tr>\n",
       "      <th>13487</th>\n",
       "      <td>190225003201057</td>\n",
       "      <td>NaN</td>\n",
       "      <td>0.573976</td>\n",
       "      <td>right_only</td>\n",
       "    </tr>\n",
       "    <tr>\n",
       "      <th>13488</th>\n",
       "      <td>190225003701354</td>\n",
       "      <td>NaN</td>\n",
       "      <td>0.452212</td>\n",
       "      <td>right_only</td>\n",
       "    </tr>\n",
       "    <tr>\n",
       "      <th>13489</th>\n",
       "      <td>190225004201132</td>\n",
       "      <td>NaN</td>\n",
       "      <td>0.262998</td>\n",
       "      <td>right_only</td>\n",
       "    </tr>\n",
       "  </tbody>\n",
       "</table>\n",
       "<p>13490 rows × 4 columns</p>\n",
       "</div>"
      ],
      "text/plain": [
       "            sobject_id        EW     Ha_EW      _merge\n",
       "0      131116000501238  0.354939       NaN   left_only\n",
       "1      131116001001352  2.129203       NaN   left_only\n",
       "2      131116001001379  1.298985  1.089601        both\n",
       "3      131118002401234  1.134192  1.140538        both\n",
       "4      131118002901020  0.515890       NaN   left_only\n",
       "...                ...       ...       ...         ...\n",
       "13485  190225002101279       NaN  0.364038  right_only\n",
       "13486  190225002701366       NaN  0.288659  right_only\n",
       "13487  190225003201057       NaN  0.573976  right_only\n",
       "13488  190225003701354       NaN  0.452212  right_only\n",
       "13489  190225004201132       NaN  0.262998  right_only\n",
       "\n",
       "[13490 rows x 4 columns]"
      ]
     },
     "execution_count": 69,
     "metadata": {},
     "output_type": "execute_result"
    }
   ],
   "source": [
    "df_temp_2"
   ]
  },
  {
   "cell_type": "code",
   "execution_count": 38,
   "metadata": {},
   "outputs": [],
   "source": [
    "df_both = df_temp_2.loc[df_temp_2[\"_merge\"]==\"both\"]"
   ]
  },
  {
   "cell_type": "code",
   "execution_count": 39,
   "metadata": {},
   "outputs": [
    {
     "data": {
      "text/plain": [
       "<AxesSubplot:>"
      ]
     },
     "execution_count": 39,
     "metadata": {},
     "output_type": "execute_result"
    },
    {
     "data": {
      "image/png": "[encoded data removed]",
      "text/plain": [
       "<Figure size 1152x648 with 1 Axes>"
      ]
     },
     "metadata": {},
     "output_type": "display_data"
    }
   ],
   "source": [
    "df_both[\"Ha_EW\"].hist(bins=50)"
   ]
  },
  {
   "cell_type": "code",
   "execution_count": 40,
   "metadata": {},
   "outputs": [
    {
     "data": {
      "text/plain": [
       "<AxesSubplot:>"
      ]
     },
     "execution_count": 40,
     "metadata": {},
     "output_type": "execute_result"
    },
    {
     "data": {
      "image/png": "[encoded data removed]",
      "text/plain": [
       "<Figure size 1152x648 with 1 Axes>"
      ]
     },
     "metadata": {},
     "output_type": "display_data"
    }
   ],
   "source": [
    "df_both[\"EW\"].hist(bins=50)"
   ]
  },
  {
   "cell_type": "code",
   "execution_count": null,
   "metadata": {},
   "outputs": [],
   "source": []
  }
 ],
 "metadata": {
  "interpreter": {
   "hash": "3aa1867c408c14afe351cfd5d1be181646832c7964023d6477fd09a3c85411b7"
  },
  "kernelspec": {
   "display_name": "Python 3.8.11 ('masters-thesis')",
   "language": "python",
   "name": "python3"
  },
  "language_info": {
   "codemirror_mode": {
    "name": "ipython",
    "version": 3
   },
   "file_extension": ".py",
   "mimetype": "text/x-python",
   "name": "python",
   "nbconvert_exporter": "python",
   "pygments_lexer": "ipython3",
   "version": "3.9.12"
  },
  "orig_nbformat": 4
 },
 "nbformat": 4,
 "nbformat_minor": 2
}
