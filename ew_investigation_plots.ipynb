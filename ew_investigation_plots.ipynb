{
 "cells": [
  {
   "cell_type": "code",
   "execution_count": 1,
   "metadata": {},
   "outputs": [],
   "source": [
    "import numpy as np\n",
    "import pandas as pd\n",
    "import h5py\n",
    "\n",
    "from specutils import Spectrum1D\n",
    "from specutils import SpectralRegion\n",
    "from specutils.analysis import equivalent_width\n",
    "from specutils.analysis import fwhm\n",
    "from astropy import units as u\n",
    "import matplotlib.pyplot as plt \n",
    "import seaborn as sns \n",
    "\n",
    "plt.rcParams[\"figure.figsize\"] = [16,9]\n",
    "sns.set_style('whitegrid')\n",
    "\n",
    "PLOT_MASK = range(1475,1550)"
   ]
  },
  {
   "cell_type": "code",
   "execution_count": 2,
   "metadata": {},
   "outputs": [],
   "source": [
    "hf_grid = h5py.File(\"/home/pravn/Dropbox/Masters/Research Data/wl_grid.h5\", \"r\")\n",
    "wl_grid = np.array(hf_grid[\"wl_grid\"])\n",
    "wl_grid = wl_grid[PLOT_MASK]"
   ]
  },
  {
   "cell_type": "code",
   "execution_count": 3,
   "metadata": {},
   "outputs": [],
   "source": [
    "original_masked = pd.read_csv(\"/home/pravn/Documents/original_masked.csv\")\n",
    "predicted_masked = pd.read_csv(\"/home/pravn/Documents/predicted_masked.csv\")"
   ]
  },
  {
   "cell_type": "code",
   "execution_count": 4,
   "metadata": {},
   "outputs": [],
   "source": [
    "difference = original_masked - predicted_masked"
   ]
  },
  {
   "cell_type": "code",
   "execution_count": 5,
   "metadata": {},
   "outputs": [],
   "source": [
    "difference_inverted = 1 - difference "
   ]
  },
  {
   "cell_type": "code",
   "execution_count": 6,
   "metadata": {},
   "outputs": [],
   "source": [
    "difference_inverted[\"EW\"] = difference_inverted.apply(lambda row : equivalent_width(Spectrum1D(spectral_axis=wl_grid*u.AA,flux=row.to_numpy()*u.Jy), continuum=1,regions=SpectralRegion(6561*u.AA,6565.5*u.AA)).value, axis=1)"
   ]
  },
  {
   "cell_type": "code",
   "execution_count": 7,
   "metadata": {},
   "outputs": [
    {
     "data": {
      "text/plain": [
       "count    588344.000000\n",
       "mean          0.019312\n",
       "std           0.174671\n",
       "min         -50.878753\n",
       "25%          -0.011909\n",
       "50%           0.015607\n",
       "75%           0.044318\n",
       "max          38.613929\n",
       "Name: EW, dtype: float64"
      ]
     },
     "execution_count": 7,
     "metadata": {},
     "output_type": "execute_result"
    }
   ],
   "source": [
    "difference_inverted[\"EW\"].describe()"
   ]
  },
  {
   "cell_type": "code",
   "execution_count": null,
   "metadata": {},
   "outputs": [],
   "source": [
    "original_masked_halpa = original_masked[difference_inverted[\"EW\"]>0.25]"
   ]
  }
 ],
 "metadata": {
  "interpreter": {
   "hash": "f9987a287d8af03934534947c56403ffc620dcc992f59ec50aa3f237f763b2e0"
  },
  "kernelspec": {
   "display_name": "Python 3.9.12 ('masters-thesis-39')",
   "language": "python",
   "name": "python3"
  },
  "language_info": {
   "codemirror_mode": {
    "name": "ipython",
    "version": 3
   },
   "file_extension": ".py",
   "mimetype": "text/x-python",
   "name": "python",
   "nbconvert_exporter": "python",
   "pygments_lexer": "ipython3",
   "version": "3.9.12"
  },
  "orig_nbformat": 4
 },
 "nbformat": 4,
 "nbformat_minor": 2
}
